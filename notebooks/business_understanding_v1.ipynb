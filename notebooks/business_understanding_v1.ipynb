{
 "cells": [
  {
   "cell_type": "markdown",
   "metadata": {},
   "source": [
    "# <b>Business Understanding</b>"
   ]
  },
  {
   "cell_type": "markdown",
   "metadata": {},
   "source": [
    "#### What we would like to have:\n",
    "    A) We would like to track coronavirus spread across countries and with personal local information. \n",
    "    B) We would like to have an understandging and a modelling of local development of the spread.\n",
    "    C) We would like a summary dashboard for the statistics and the modelization, it will be deployed on Heroku.\n",
    "    \n",
    "#### We are interested in southern and eastern African countries in comparison with some asian countries.\n",
    "\n",
    "#### These African countries are:\n",
    "    1. Angola\n",
    "    2. Botswana\n",
    "    3. Comoros\n",
    "    4. DRC (Democratic Republic of the Congo)\n",
    "    5. Eswatini (Swaziland)\n",
    "    6. Lesotho\n",
    "    7. Madagascar\n",
    "    8. Malawi\n",
    "    9. Mauritius\n",
    "    10. Mozambique\n",
    "    11. Namibia\n",
    "    12. Seychelles\n",
    "    13. South Africa\n",
    "    14. Tanzania\n",
    "    15. Zambia\n",
    "    16. Zimbabwe\n",
    "    \n",
    "#### The comparative Asian countries:\n",
    "    1. China (People's Republic of China) \n",
    "    2. Singapore\n",
    "    3. South Korea\n",
    "    4. Taiwan (Republic of China\n",
    "    \n",
    "    \n",
    "We may skip some countries due to the small size of population or other factors. We may also add some relevant ones.\n"
   ]
  },
  {
   "cell_type": "code",
   "execution_count": null,
   "metadata": {},
   "outputs": [],
   "source": []
  }
 ],
 "metadata": {
  "kernelspec": {
   "display_name": "Python 3",
   "language": "python",
   "name": "python3"
  },
  "language_info": {
   "codemirror_mode": {
    "name": "ipython",
    "version": 3
   },
   "file_extension": ".py",
   "mimetype": "text/x-python",
   "name": "python",
   "nbconvert_exporter": "python",
   "pygments_lexer": "ipython3",
   "version": "3.7.4"
  }
 },
 "nbformat": 4,
 "nbformat_minor": 4
}
